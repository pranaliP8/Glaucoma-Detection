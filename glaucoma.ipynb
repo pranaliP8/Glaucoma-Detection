{
 "cells": [
  {
   "cell_type": "code",
   "execution_count": 1,
   "metadata": {},
   "outputs": [
    {
     "name": "stderr",
     "output_type": "stream",
     "text": [
      "C:\\ProgramData\\Anaconda3\\lib\\site-packages\\scipy\\__init__.py:155: UserWarning: A NumPy version >=1.18.5 and <1.25.0 is required for this version of SciPy (detected version 1.26.0\n",
      "  warnings.warn(f\"A NumPy version >={np_minversion} and <{np_maxversion}\"\n"
     ]
    }
   ],
   "source": [
    "import os\n",
    "import random\n",
    "\n",
    "import numpy as np\n",
    "import pandas as pd\n",
    "\n",
    "import matplotlib.pyplot as plt\n",
    "import matplotlib.image as mpimage\n",
    "import cv2\n",
    "\n",
    "import tensorflow as tf\n",
    "from tensorflow.keras.preprocessing.image import ImageDataGenerator, array_to_img, img_to_array, load_img\n",
    "\n",
    "from sklearn.model_selection import train_test_split"
   ]
  },
  {
   "cell_type": "code",
   "execution_count": 2,
   "metadata": {},
   "outputs": [
    {
     "name": "stdout",
     "output_type": "stream",
     "text": [
      "Defaulting to user installation because normal site-packages is not writeable\n",
      "Requirement already satisfied: opencv-python in c:\\users\\vaish\\appdata\\roaming\\python\\python39\\site-packages (4.8.1.78)\n",
      "Requirement already satisfied: numpy>=1.17.0 in c:\\users\\vaish\\appdata\\roaming\\python\\python39\\site-packages (from opencv-python) (1.26.0)\n",
      "Note: you may need to restart the kernel to use updated packages.\n"
     ]
    }
   ],
   "source": [
    "pip install opencv-python"
   ]
  },
  {
   "cell_type": "code",
   "execution_count": 3,
   "metadata": {},
   "outputs": [],
   "source": [
    "import cv2"
   ]
  },
  {
   "cell_type": "code",
   "execution_count": 4,
   "metadata": {},
   "outputs": [
    {
     "name": "stdout",
     "output_type": "stream",
     "text": [
      "Defaulting to user installation because normal site-packages is not writeable\n",
      "Requirement already satisfied: opencv-contrib-python in c:\\users\\vaish\\appdata\\roaming\\python\\python39\\site-packages (4.8.1.78)\n",
      "Requirement already satisfied: numpy>=1.17.0 in c:\\users\\vaish\\appdata\\roaming\\python\\python39\\site-packages (from opencv-contrib-python) (1.26.0)\n",
      "Note: you may need to restart the kernel to use updated packages.\n"
     ]
    }
   ],
   "source": [
    "pip install opencv-contrib-python"
   ]
  },
  {
   "cell_type": "code",
   "execution_count": 5,
   "metadata": {},
   "outputs": [
    {
     "name": "stdout",
     "output_type": "stream",
     "text": [
      "Defaulting to user installation because normal site-packages is not writeable\n",
      "Requirement already satisfied: tensorflow in c:\\users\\vaish\\appdata\\roaming\\python\\python39\\site-packages (2.14.0)\n",
      "Requirement already satisfied: tensorflow-intel==2.14.0 in c:\\users\\vaish\\appdata\\roaming\\python\\python39\\site-packages (from tensorflow) (2.14.0)\n",
      "Requirement already satisfied: typing-extensions>=3.6.6 in c:\\programdata\\anaconda3\\lib\\site-packages (from tensorflow-intel==2.14.0->tensorflow) (4.3.0)\n",
      "Requirement already satisfied: wrapt<1.15,>=1.11.0 in c:\\programdata\\anaconda3\\lib\\site-packages (from tensorflow-intel==2.14.0->tensorflow) (1.14.1)\n",
      "Requirement already satisfied: tensorflow-estimator<2.15,>=2.14.0 in c:\\users\\vaish\\appdata\\roaming\\python\\python39\\site-packages (from tensorflow-intel==2.14.0->tensorflow) (2.14.0)\n",
      "Requirement already satisfied: protobuf!=4.21.0,!=4.21.1,!=4.21.2,!=4.21.3,!=4.21.4,!=4.21.5,<5.0.0dev,>=3.20.3 in c:\\users\\vaish\\appdata\\roaming\\python\\python39\\site-packages (from tensorflow-intel==2.14.0->tensorflow) (4.24.4)\n",
      "Requirement already satisfied: opt-einsum>=2.3.2 in c:\\users\\vaish\\appdata\\roaming\\python\\python39\\site-packages (from tensorflow-intel==2.14.0->tensorflow) (3.3.0)\n",
      "Requirement already satisfied: h5py>=2.9.0 in c:\\programdata\\anaconda3\\lib\\site-packages (from tensorflow-intel==2.14.0->tensorflow) (3.7.0)\n",
      "Requirement already satisfied: numpy>=1.23.5 in c:\\users\\vaish\\appdata\\roaming\\python\\python39\\site-packages (from tensorflow-intel==2.14.0->tensorflow) (1.26.0)\n",
      "Requirement already satisfied: ml-dtypes==0.2.0 in c:\\users\\vaish\\appdata\\roaming\\python\\python39\\site-packages (from tensorflow-intel==2.14.0->tensorflow) (0.2.0)\n",
      "Requirement already satisfied: setuptools in c:\\programdata\\anaconda3\\lib\\site-packages (from tensorflow-intel==2.14.0->tensorflow) (63.4.1)\n",
      "Requirement already satisfied: tensorflow-io-gcs-filesystem>=0.23.1 in c:\\users\\vaish\\appdata\\roaming\\python\\python39\\site-packages (from tensorflow-intel==2.14.0->tensorflow) (0.31.0)\n",
      "Requirement already satisfied: packaging in c:\\programdata\\anaconda3\\lib\\site-packages (from tensorflow-intel==2.14.0->tensorflow) (21.3)\n",
      "Requirement already satisfied: astunparse>=1.6.0 in c:\\users\\vaish\\appdata\\roaming\\python\\python39\\site-packages (from tensorflow-intel==2.14.0->tensorflow) (1.6.3)\n",
      "Requirement already satisfied: termcolor>=1.1.0 in c:\\users\\vaish\\appdata\\roaming\\python\\python39\\site-packages (from tensorflow-intel==2.14.0->tensorflow) (2.3.0)\n",
      "Requirement already satisfied: grpcio<2.0,>=1.24.3 in c:\\users\\vaish\\appdata\\roaming\\python\\python39\\site-packages (from tensorflow-intel==2.14.0->tensorflow) (1.59.0)\n",
      "Requirement already satisfied: tensorboard<2.15,>=2.14 in c:\\users\\vaish\\appdata\\roaming\\python\\python39\\site-packages (from tensorflow-intel==2.14.0->tensorflow) (2.14.1)\n",
      "Requirement already satisfied: google-pasta>=0.1.1 in c:\\users\\vaish\\appdata\\roaming\\python\\python39\\site-packages (from tensorflow-intel==2.14.0->tensorflow) (0.2.0)\n",
      "Requirement already satisfied: gast!=0.5.0,!=0.5.1,!=0.5.2,>=0.2.1 in c:\\users\\vaish\\appdata\\roaming\\python\\python39\\site-packages (from tensorflow-intel==2.14.0->tensorflow) (0.5.4)\n",
      "Requirement already satisfied: keras<2.15,>=2.14.0 in c:\\users\\vaish\\appdata\\roaming\\python\\python39\\site-packages (from tensorflow-intel==2.14.0->tensorflow) (2.14.0)\n",
      "Requirement already satisfied: six>=1.12.0 in c:\\programdata\\anaconda3\\lib\\site-packages (from tensorflow-intel==2.14.0->tensorflow) (1.16.0)\n",
      "Requirement already satisfied: libclang>=13.0.0 in c:\\users\\vaish\\appdata\\roaming\\python\\python39\\site-packages (from tensorflow-intel==2.14.0->tensorflow) (16.0.6)\n",
      "Requirement already satisfied: flatbuffers>=23.5.26 in c:\\users\\vaish\\appdata\\roaming\\python\\python39\\site-packages (from tensorflow-intel==2.14.0->tensorflow) (23.5.26)\n",
      "Requirement already satisfied: absl-py>=1.0.0 in c:\\users\\vaish\\appdata\\roaming\\python\\python39\\site-packages (from tensorflow-intel==2.14.0->tensorflow) (2.0.0)\n",
      "Requirement already satisfied: wheel<1.0,>=0.23.0 in c:\\programdata\\anaconda3\\lib\\site-packages (from astunparse>=1.6.0->tensorflow-intel==2.14.0->tensorflow) (0.37.1)\n",
      "Requirement already satisfied: werkzeug>=1.0.1 in c:\\programdata\\anaconda3\\lib\\site-packages (from tensorboard<2.15,>=2.14->tensorflow-intel==2.14.0->tensorflow) (2.0.3)\n",
      "Requirement already satisfied: tensorboard-data-server<0.8.0,>=0.7.0 in c:\\users\\vaish\\appdata\\roaming\\python\\python39\\site-packages (from tensorboard<2.15,>=2.14->tensorflow-intel==2.14.0->tensorflow) (0.7.1)\n",
      "Requirement already satisfied: requests<3,>=2.21.0 in c:\\programdata\\anaconda3\\lib\\site-packages (from tensorboard<2.15,>=2.14->tensorflow-intel==2.14.0->tensorflow) (2.28.1)\n",
      "Requirement already satisfied: google-auth<3,>=1.6.3 in c:\\users\\vaish\\appdata\\roaming\\python\\python39\\site-packages (from tensorboard<2.15,>=2.14->tensorflow-intel==2.14.0->tensorflow) (2.23.3)\n",
      "Requirement already satisfied: markdown>=2.6.8 in c:\\programdata\\anaconda3\\lib\\site-packages (from tensorboard<2.15,>=2.14->tensorflow-intel==2.14.0->tensorflow) (3.3.4)\n",
      "Requirement already satisfied: google-auth-oauthlib<1.1,>=0.5 in c:\\users\\vaish\\appdata\\roaming\\python\\python39\\site-packages (from tensorboard<2.15,>=2.14->tensorflow-intel==2.14.0->tensorflow) (1.0.0)\n",
      "Requirement already satisfied: pyparsing!=3.0.5,>=2.0.2 in c:\\programdata\\anaconda3\\lib\\site-packages (from packaging->tensorflow-intel==2.14.0->tensorflow) (3.0.9)\n",
      "Requirement already satisfied: rsa<5,>=3.1.4 in c:\\users\\vaish\\appdata\\roaming\\python\\python39\\site-packages (from google-auth<3,>=1.6.3->tensorboard<2.15,>=2.14->tensorflow-intel==2.14.0->tensorflow) (4.9)\n",
      "Requirement already satisfied: pyasn1-modules>=0.2.1 in c:\\programdata\\anaconda3\\lib\\site-packages (from google-auth<3,>=1.6.3->tensorboard<2.15,>=2.14->tensorflow-intel==2.14.0->tensorflow) (0.2.8)\n",
      "Requirement already satisfied: cachetools<6.0,>=2.0.0 in c:\\users\\vaish\\appdata\\roaming\\python\\python39\\site-packages (from google-auth<3,>=1.6.3->tensorboard<2.15,>=2.14->tensorflow-intel==2.14.0->tensorflow) (5.3.1)\n",
      "Requirement already satisfied: requests-oauthlib>=0.7.0 in c:\\users\\vaish\\appdata\\roaming\\python\\python39\\site-packages (from google-auth-oauthlib<1.1,>=0.5->tensorboard<2.15,>=2.14->tensorflow-intel==2.14.0->tensorflow) (1.3.1)\n",
      "Requirement already satisfied: certifi>=2017.4.17 in c:\\programdata\\anaconda3\\lib\\site-packages (from requests<3,>=2.21.0->tensorboard<2.15,>=2.14->tensorflow-intel==2.14.0->tensorflow) (2022.9.14)\n",
      "Requirement already satisfied: idna<4,>=2.5 in c:\\programdata\\anaconda3\\lib\\site-packages (from requests<3,>=2.21.0->tensorboard<2.15,>=2.14->tensorflow-intel==2.14.0->tensorflow) (3.3)\n",
      "Requirement already satisfied: charset-normalizer<3,>=2 in c:\\programdata\\anaconda3\\lib\\site-packages (from requests<3,>=2.21.0->tensorboard<2.15,>=2.14->tensorflow-intel==2.14.0->tensorflow) (2.0.4)\n",
      "Requirement already satisfied: urllib3<1.27,>=1.21.1 in c:\\programdata\\anaconda3\\lib\\site-packages (from requests<3,>=2.21.0->tensorboard<2.15,>=2.14->tensorflow-intel==2.14.0->tensorflow) (1.26.11)\n",
      "Requirement already satisfied: pyasn1<0.5.0,>=0.4.6 in c:\\programdata\\anaconda3\\lib\\site-packages (from pyasn1-modules>=0.2.1->google-auth<3,>=1.6.3->tensorboard<2.15,>=2.14->tensorflow-intel==2.14.0->tensorflow) (0.4.8)\n",
      "Requirement already satisfied: oauthlib>=3.0.0 in c:\\users\\vaish\\appdata\\roaming\\python\\python39\\site-packages (from requests-oauthlib>=0.7.0->google-auth-oauthlib<1.1,>=0.5->tensorboard<2.15,>=2.14->tensorflow-intel==2.14.0->tensorflow) (3.2.2)\n",
      "Note: you may need to restart the kernel to use updated packages.\n"
     ]
    }
   ],
   "source": [
    "pip install tensorflow"
   ]
  },
  {
   "cell_type": "code",
   "execution_count": 2,
   "metadata": {},
   "outputs": [],
   "source": [
    "def load_images(path_dir):\n",
    "    images = []\n",
    "    for jpg in os.listdir(path_dir):\n",
    "        image_low_resolution = cv2.imread(f'{path_dir}/{jpg}')\n",
    "        #image_change_color = cv2.cvtColor(image_high_resolution, cv2.COLOR_BGR2RGB)\n",
    "        #image_low_resolution = cv2.resize(image_change_color, (200, 200))\n",
    "        images.append(image_low_resolution)\n",
    "        \n",
    "    return np.asarray(images, dtype='object')"
   ]
  },
  {
   "cell_type": "code",
   "execution_count": 3,
   "metadata": {},
   "outputs": [],
   "source": [
    "normal_img = load_images('C:/Users/vaish/Desktop/MegaProject/Project Glaucoma/normal')"
   ]
  },
  {
   "cell_type": "code",
   "execution_count": 4,
   "metadata": {},
   "outputs": [],
   "source": [
    "glaucoma_img = load_images('C:/Users/vaish/Desktop/MegaProject/Project Glaucoma/glaucoma')"
   ]
  },
  {
   "cell_type": "code",
   "execution_count": 5,
   "metadata": {},
   "outputs": [],
   "source": [
    "eye_deseases_img = np.concatenate((glaucoma_img, normal_img)) "
   ]
  },
  {
   "cell_type": "code",
   "execution_count": 6,
   "metadata": {},
   "outputs": [],
   "source": [
    "label_eye_deseases = np.concatenate((\n",
    "    np.repeat(1, glaucoma_img.shape[0]), # Create Label for Glaucoma\n",
    "    np.repeat(0, normal_img.shape[0]) # Create Label for Normal\n",
    "))"
   ]
  },
  {
   "cell_type": "code",
   "execution_count": 7,
   "metadata": {},
   "outputs": [],
   "source": [
    "dict_labels_eye_deseases = {1:'glaucoma', 0:'normal'}"
   ]
  },
  {
   "cell_type": "code",
   "execution_count": 8,
   "metadata": {},
   "outputs": [],
   "source": [
    "x_train, x_test, y_train, y_test = train_test_split(eye_deseases_img, label_eye_deseases, test_size=0.30,random_state=2184,)"
   ]
  },
  {
   "cell_type": "code",
   "execution_count": 9,
   "metadata": {},
   "outputs": [
    {
     "name": "stderr",
     "output_type": "stream",
     "text": [
      "A subdirectory or file model\\Train\\glaucoma already exists.\n",
      "A subdirectory or file model\\Train\\normal already exists.\n",
      "A subdirectory or file model\\Test\\glaucoma already exists.\n",
      "A subdirectory or file model\\Test\\normal already exists.\n"
     ]
    }
   ],
   "source": [
    "!mkdir model\\Train\\glaucoma\n",
    "!mkdir model\\Train\\normal\n",
    "!mkdir model\\Test\\glaucoma\n",
    "!mkdir model\\Test\\normal"
   ]
  },
  {
   "cell_type": "code",
   "execution_count": 10,
   "metadata": {},
   "outputs": [],
   "source": [
    "def save_images_directories(x, y, dir_set):\n",
    "    for i in range(x.shape[0]): \n",
    "        plt.imsave(f'{dir_set}/{dict_labels_eye_deseases[y[i]]}/{np.random.randint(1000000)}.jpg', x[i])\n",
    "\n",
    "save_images_directories(x_train, y_train, 'C:/Users/vaish/Desktop/MegaProject/Project Glaucoma/model/Train')\n",
    "save_images_directories(x_test, y_test, 'C:/Users/vaish/Desktop/MegaProject/Project Glaucoma/model/Test') "
   ]
  },
  {
   "cell_type": "code",
   "execution_count": 11,
   "metadata": {},
   "outputs": [],
   "source": [
    "train_datagen = ImageDataGenerator(rescale = 1/255, horizontal_flip=True,vertical_flip=False)\n",
    "test_datagen = ImageDataGenerator(rescale = 1/255,horizontal_flip=True,vertical_flip=False,validation_split=0.2)"
   ]
  },
  {
   "cell_type": "code",
   "execution_count": 12,
   "metadata": {},
   "outputs": [],
   "source": [
    "classes = list(dict_labels_eye_deseases.values())"
   ]
  },
  {
   "cell_type": "code",
   "execution_count": 13,
   "metadata": {},
   "outputs": [],
   "source": [
    "def results_visualization(history):\n",
    "    epochs = [i for i in range(20)]\n",
    "    fig, ax = plt.subplots(1, 2) # Create de plots\n",
    "    train_acc = history.history['accuracy']\n",
    "    train_loss = history.history['loss']\n",
    "    val_acc = history.history['val_accuracy']\n",
    "    val_loss = history.history['val_loss']\n",
    "    fig.set_size_inches(10, 9)\n",
    "    \n",
    "    ax[0].plot(epochs, train_acc, 'go-', label='Training Accuracy')\n",
    "    ax[0].plot(epochs, val_acc, 'ro-', label='Validation Accuracy')\n",
    "    ax[0].set_title('Training and validation accuracy')\n",
    "    ax[0].legend()\n",
    "    ax[0].set_xlabel('Epochs')\n",
    "    ax[0].set_ylabel('Accuracy')\n",
    "    \n",
    "    ax[1].plot(epochs, train_loss, 'go-', label='Training loss')\n",
    "    ax[1].plot(epochs, val_loss, 'ro-', label='Validation loss')\n",
    "    ax[1].set_title('Training and validation loss')\n",
    "    ax[1].legend()\n",
    "    ax[1].set_xlabel('Epochs')\n",
    "    ax[1].set_ylabel('Loss')\n",
    "    \n",
    "    plt.show()"
   ]
  },
  {
   "cell_type": "code",
   "execution_count": 14,
   "metadata": {},
   "outputs": [],
   "source": [
    "from tensorflow.keras.callbacks import Callback\n",
    "\n",
    "def callback_best_model(name_version_model):\n",
    "    callback_best_model = tf.keras.callbacks.ModelCheckpoint(\n",
    "                            filepath = f'../results/{name_version_model}',\n",
    "                            frequency = 'epoch',\n",
    "                            save_best_only = True,\n",
    "                            monitor = 'val_accuracy',\n",
    "                            verbose = 1\n",
    "                        )\n",
    "    return callback_best_model\n",
    "\n",
    "# Create a callback when the model accuracy in training data reached 0.90\n",
    "class TrainingCallback(Callback):\n",
    "    def on_epoch_end(self, epoch, logs = {}):\n",
    "        if logs.get('accuracy') > 0.90:\n",
    "            print('The model has reached the accuracy desired (0.90), stop the training!')\n",
    "            self.model.stop_training = True"
   ]
  },
  {
   "cell_type": "code",
   "execution_count": 15,
   "metadata": {},
   "outputs": [],
   "source": [
    "import warnings\n",
    "warnings.filterwarnings(\"ignore\")"
   ]
  },
  {
   "cell_type": "code",
   "execution_count": 16,
   "metadata": {},
   "outputs": [
    {
     "name": "stdout",
     "output_type": "stream",
     "text": [
      "Model: \"sequential\"\n",
      "_________________________________________________________________\n",
      " Layer (type)                Output Shape              Param #   \n",
      "=================================================================\n",
      " flatten (Flatten)           (None, 120000)            0         \n",
      "                                                                 \n",
      " dense (Dense)               (None, 50)                6000050   \n",
      "                                                                 \n",
      " dense_1 (Dense)             (None, 100)               5100      \n",
      "                                                                 \n",
      " dense_2 (Dense)             (None, 2)                 202       \n",
      "                                                                 \n",
      "=================================================================\n",
      "Total params: 6005352 (22.91 MB)\n",
      "Trainable params: 6005352 (22.91 MB)\n",
      "Non-trainable params: 0 (0.00 Byte)\n",
      "_________________________________________________________________\n"
     ]
    }
   ],
   "source": [
    "model_base = tf.keras.models.Sequential([\n",
    "    tf.keras.layers.Flatten(input_shape=(200,200,3)),\n",
    "    tf.keras.layers.Dense(50, activation='relu'),\n",
    "    tf.keras.layers.Dense(100, activation='relu'),\n",
    "    tf.keras.layers.Dense(2, activation='softmax')\n",
    "]\n",
    ")\n",
    "model_base.summary()"
   ]
  },
  {
   "cell_type": "code",
   "execution_count": 17,
   "metadata": {},
   "outputs": [],
   "source": [
    "model_base.compile(\n",
    "    optimizer='adam',\n",
    "    loss='categorical_crossentropy',\n",
    "    metrics=['accuracy']\n",
    ")"
   ]
  },
  {
   "cell_type": "code",
   "execution_count": 18,
   "metadata": {},
   "outputs": [
    {
     "name": "stdout",
     "output_type": "stream",
     "text": [
      "Found 10335 images belonging to 2 classes.\n",
      "Found 886 images belonging to 2 classes.\n",
      "Found 4433 images belonging to 2 classes.\n"
     ]
    }
   ],
   "source": [
    "train_generator = train_datagen.flow_from_directory(\n",
    "    'C:/Users/vaish/Desktop/MegaProject/Project Glaucoma/model/Train',\n",
    "    target_size=(200,200),\n",
    "    batch_size=128,\n",
    "    class_mode='categorical',\n",
    "    color_mode='rgb',\n",
    "    subset='training'\n",
    ")\n",
    "\n",
    "validation_generator = test_datagen.flow_from_directory(\n",
    "    'C:/Users/vaish/Desktop/MegaProject/Project Glaucoma/model/Test',\n",
    "    target_size=(200,200),\n",
    "    batch_size=126,\n",
    "    class_mode='categorical',\n",
    "    color_mode='rgb',\n",
    "    subset='validation'\n",
    ")\n",
    "\n",
    "test_generator = test_datagen.flow_from_directory(\n",
    "    'C:/Users/vaish/Desktop/MegaProject/Project Glaucoma/model/Test',\n",
    "    target_size=(200,200),\n",
    "    batch_size=128,\n",
    "    class_mode='categorical',\n",
    "    color_mode='rgb'\n",
    ")"
   ]
  },
  {
   "cell_type": "code",
   "execution_count": 19,
   "metadata": {},
   "outputs": [
    {
     "name": "stdout",
     "output_type": "stream",
     "text": [
      "Epoch 1/20\n",
      "81/81 [==============================] - ETA: 0s - loss: 1.9201 - accuracy: 0.6377\n",
      "Epoch 1: val_accuracy improved from -inf to 0.72122, saving model to ../results\\new_model.h5\n",
      "81/81 [==============================] - 62s 758ms/step - loss: 1.9201 - accuracy: 0.6377 - val_loss: 0.5031 - val_accuracy: 0.7212\n",
      "Epoch 2/20\n",
      "81/81 [==============================] - ETA: 0s - loss: 0.5176 - accuracy: 0.7419\n",
      "Epoch 2: val_accuracy improved from 0.72122 to 0.79797, saving model to ../results\\new_model.h5\n",
      "81/81 [==============================] - 43s 531ms/step - loss: 0.5176 - accuracy: 0.7419 - val_loss: 0.4187 - val_accuracy: 0.7980\n",
      "Epoch 3/20\n",
      "81/81 [==============================] - ETA: 0s - loss: 0.4361 - accuracy: 0.7984\n",
      "Epoch 3: val_accuracy did not improve from 0.79797\n",
      "81/81 [==============================] - 44s 540ms/step - loss: 0.4361 - accuracy: 0.7984 - val_loss: 0.5379 - val_accuracy: 0.7133\n",
      "Epoch 4/20\n",
      "81/81 [==============================] - ETA: 0s - loss: 0.4104 - accuracy: 0.8160\n",
      "Epoch 4: val_accuracy improved from 0.79797 to 0.82393, saving model to ../results\\new_model.h5\n",
      "81/81 [==============================] - 43s 530ms/step - loss: 0.4104 - accuracy: 0.8160 - val_loss: 0.4033 - val_accuracy: 0.8239\n",
      "Epoch 5/20\n",
      "81/81 [==============================] - ETA: 0s - loss: 0.4658 - accuracy: 0.7881\n",
      "Epoch 5: val_accuracy did not improve from 0.82393\n",
      "81/81 [==============================] - 43s 533ms/step - loss: 0.4658 - accuracy: 0.7881 - val_loss: 0.7533 - val_accuracy: 0.7506\n",
      "Epoch 6/20\n",
      "81/81 [==============================] - ETA: 0s - loss: 0.3882 - accuracy: 0.8293\n",
      "Epoch 6: val_accuracy did not improve from 0.82393\n",
      "81/81 [==============================] - 43s 528ms/step - loss: 0.3882 - accuracy: 0.8293 - val_loss: 0.4496 - val_accuracy: 0.7607\n",
      "Epoch 7/20\n",
      "81/81 [==============================] - ETA: 0s - loss: 0.3882 - accuracy: 0.8267\n",
      "Epoch 7: val_accuracy did not improve from 0.82393\n",
      "81/81 [==============================] - 43s 529ms/step - loss: 0.3882 - accuracy: 0.8267 - val_loss: 0.4114 - val_accuracy: 0.8138\n",
      "Epoch 8/20\n",
      "81/81 [==============================] - ETA: 0s - loss: 0.3360 - accuracy: 0.8545\n",
      "Epoch 8: val_accuracy improved from 0.82393 to 0.84763, saving model to ../results\\new_model.h5\n",
      "81/81 [==============================] - 43s 534ms/step - loss: 0.3360 - accuracy: 0.8545 - val_loss: 0.3565 - val_accuracy: 0.8476\n",
      "Epoch 9/20\n",
      "81/81 [==============================] - ETA: 0s - loss: 0.3547 - accuracy: 0.8479\n",
      "Epoch 9: val_accuracy did not improve from 0.84763\n",
      "81/81 [==============================] - 43s 532ms/step - loss: 0.3547 - accuracy: 0.8479 - val_loss: 0.7040 - val_accuracy: 0.5959\n",
      "Epoch 10/20\n",
      "81/81 [==============================] - ETA: 0s - loss: 0.3808 - accuracy: 0.8330\n",
      "Epoch 10: val_accuracy improved from 0.84763 to 0.85102, saving model to ../results\\new_model.h5\n",
      "81/81 [==============================] - 43s 532ms/step - loss: 0.3808 - accuracy: 0.8330 - val_loss: 0.3583 - val_accuracy: 0.8510\n",
      "Epoch 11/20\n",
      "81/81 [==============================] - ETA: 0s - loss: 0.3647 - accuracy: 0.8393\n",
      "Epoch 11: val_accuracy improved from 0.85102 to 0.85327, saving model to ../results\\new_model.h5\n",
      "81/81 [==============================] - 43s 532ms/step - loss: 0.3647 - accuracy: 0.8393 - val_loss: 0.3527 - val_accuracy: 0.8533\n",
      "Epoch 12/20\n",
      "81/81 [==============================] - ETA: 0s - loss: 0.3388 - accuracy: 0.8527\n",
      "Epoch 12: val_accuracy did not improve from 0.85327\n",
      "81/81 [==============================] - 43s 524ms/step - loss: 0.3388 - accuracy: 0.8527 - val_loss: 1.1076 - val_accuracy: 0.5372\n",
      "Epoch 13/20\n",
      "81/81 [==============================] - ETA: 0s - loss: 0.3721 - accuracy: 0.8437\n",
      "Epoch 13: val_accuracy did not improve from 0.85327\n",
      "81/81 [==============================] - 54s 667ms/step - loss: 0.3721 - accuracy: 0.8437 - val_loss: 0.3993 - val_accuracy: 0.7833\n",
      "Epoch 14/20\n",
      "81/81 [==============================] - ETA: 0s - loss: 0.3531 - accuracy: 0.8449\n",
      "Epoch 14: val_accuracy did not improve from 0.85327\n",
      "81/81 [==============================] - 45s 558ms/step - loss: 0.3531 - accuracy: 0.8449 - val_loss: 0.3801 - val_accuracy: 0.8465\n",
      "Epoch 15/20\n",
      "81/81 [==============================] - ETA: 0s - loss: 0.3102 - accuracy: 0.8663\n",
      "Epoch 15: val_accuracy did not improve from 0.85327\n",
      "81/81 [==============================] - 56s 694ms/step - loss: 0.3102 - accuracy: 0.8663 - val_loss: 0.3521 - val_accuracy: 0.8442\n",
      "Epoch 16/20\n",
      "81/81 [==============================] - ETA: 0s - loss: 0.3052 - accuracy: 0.8708\n",
      "Epoch 16: val_accuracy did not improve from 0.85327\n",
      "81/81 [==============================] - 48s 585ms/step - loss: 0.3052 - accuracy: 0.8708 - val_loss: 0.3806 - val_accuracy: 0.8205\n",
      "Epoch 17/20\n",
      "81/81 [==============================] - ETA: 0s - loss: 0.3174 - accuracy: 0.8631\n",
      "Epoch 17: val_accuracy did not improve from 0.85327\n",
      "81/81 [==============================] - 47s 579ms/step - loss: 0.3174 - accuracy: 0.8631 - val_loss: 0.3745 - val_accuracy: 0.8476\n",
      "Epoch 18/20\n",
      "81/81 [==============================] - ETA: 0s - loss: 0.3038 - accuracy: 0.8718\n",
      "Epoch 18: val_accuracy did not improve from 0.85327\n",
      "81/81 [==============================] - 48s 598ms/step - loss: 0.3038 - accuracy: 0.8718 - val_loss: 0.4179 - val_accuracy: 0.8330\n",
      "Epoch 19/20\n",
      "81/81 [==============================] - ETA: 0s - loss: 0.3168 - accuracy: 0.8615\n",
      "Epoch 19: val_accuracy did not improve from 0.85327\n",
      "81/81 [==============================] - 48s 591ms/step - loss: 0.3168 - accuracy: 0.8615 - val_loss: 0.3662 - val_accuracy: 0.8499\n",
      "Epoch 20/20\n",
      "81/81 [==============================] - ETA: 0s - loss: 0.3025 - accuracy: 0.8733\n",
      "Epoch 20: val_accuracy did not improve from 0.85327\n",
      "81/81 [==============================] - 42s 520ms/step - loss: 0.3025 - accuracy: 0.8733 - val_loss: 0.4851 - val_accuracy: 0.8273\n"
     ]
    }
   ],
   "source": [
    "history = model_base.fit(\n",
    "    train_generator,\n",
    "    epochs=20,\n",
    "    validation_data=validation_generator,\n",
    "    verbose=1,\n",
    "    callbacks=[callback_best_model('new_model.h5')]\n",
    ")"
   ]
  },
  {
   "cell_type": "code",
   "execution_count": 20,
   "metadata": {},
   "outputs": [
    {
     "data": {
      "image/png": "[encoded data removed]",
      "text/plain": [
       "<Figure size 1000x900 with 2 Axes>"
      ]
     },
     "metadata": {},
     "output_type": "display_data"
    }
   ],
   "source": [
    "results_visualization(history)"
   ]
  },
  {
   "cell_type": "code",
   "execution_count": 29,
   "metadata": {},
   "outputs": [
    {
     "name": "stdout",
     "output_type": "stream",
     "text": [
      "35/35 [==============================] - 15s 430ms/step - loss: 0.5066 - accuracy: 0.8202\n",
      "Accuracy model: 0.8202120661735535\n"
     ]
    }
   ],
   "source": [
    "print(f'Accuracy model: {model_base.evaluate(test_generator)[1]}')"
   ]
  },
  {
   "cell_type": "code",
   "execution_count": 30,
   "metadata": {},
   "outputs": [
    {
     "name": "stdout",
     "output_type": "stream",
     "text": [
      "Model: \"sequential_2\"\n",
      "_________________________________________________________________\n",
      " Layer (type)                Output Shape              Param #   \n",
      "=================================================================\n",
      " conv2d_4 (Conv2D)           (None, 199, 199, 64)      832       \n",
      "                                                                 \n",
      " max_pooling2d_3 (MaxPoolin  (None, 99, 99, 64)        0         \n",
      " g2D)                                                            \n",
      "                                                                 \n",
      " conv2d_5 (Conv2D)           (None, 98, 98, 64)        16448     \n",
      "                                                                 \n",
      " dropout_2 (Dropout)         (None, 98, 98, 64)        0         \n",
      "                                                                 \n",
      " conv2d_6 (Conv2D)           (None, 97, 97, 64)        16448     \n",
      "                                                                 \n",
      " max_pooling2d_4 (MaxPoolin  (None, 48, 48, 64)        0         \n",
      " g2D)                                                            \n",
      "                                                                 \n",
      " dropout_3 (Dropout)         (None, 48, 48, 64)        0         \n",
      "                                                                 \n",
      " conv2d_7 (Conv2D)           (None, 47, 47, 128)       32896     \n",
      "                                                                 \n",
      " max_pooling2d_5 (MaxPoolin  (None, 23, 23, 128)       0         \n",
      " g2D)                                                            \n",
      "                                                                 \n",
      " flatten_2 (Flatten)         (None, 67712)             0         \n",
      "                                                                 \n",
      " dense_4 (Dense)             (None, 2)                 135426    \n",
      "                                                                 \n",
      "=================================================================\n",
      "Total params: 202050 (789.26 KB)\n",
      "Trainable params: 202050 (789.26 KB)\n",
      "Non-trainable params: 0 (0.00 Byte)\n",
      "_________________________________________________________________\n"
     ]
    }
   ],
   "source": [
    "cnn_model = tf.keras.models.Sequential([\n",
    "    # Input Layer\n",
    "    tf.keras.layers.Conv2D(64, (2,2), activation='relu', input_shape=(200,200,3)),\n",
    "    tf.keras.layers.MaxPool2D((2,2)),\n",
    "    \n",
    "    # Layer 2\n",
    "    tf.keras.layers.Conv2D(64, (2,2), activation='relu'),\n",
    "    tf.keras.layers.Dropout(0.2),\n",
    "    \n",
    "    # Layer 3\n",
    "    tf.keras.layers.Conv2D(64, (2,2)),\n",
    "    tf.keras.layers.MaxPool2D((2,2)),\n",
    "    tf.keras.layers.Dropout(0.1),\n",
    "    \n",
    "    # Layer 4\n",
    "    tf.keras.layers.Conv2D(128,(2,2), kernel_regularizer=tf.keras.regularizers.l2(1e-4)),\n",
    "    tf.keras.layers.MaxPool2D((2,2)),\n",
    "    \n",
    "    # Flatten layer\n",
    "    tf.keras.layers.Flatten(),\n",
    "    \n",
    "    # Output layer\n",
    "    tf.keras.layers.Dense(2, activation='sigmoid')\n",
    "])\n",
    "\n",
    "cnn_model.summary()"
   ]
  },
  {
   "cell_type": "code",
   "execution_count": 31,
   "metadata": {},
   "outputs": [],
   "source": [
    "cnn_model.compile(\n",
    "    optimizer='adam',\n",
    "    loss='categorical_crossentropy',\n",
    "    metrics=['accuracy']\n",
    ")"
   ]
  },
  {
   "cell_type": "code",
   "execution_count": null,
   "metadata": {},
   "outputs": [
    {
     "name": "stdout",
     "output_type": "stream",
     "text": [
      "Epoch 1/20\n",
      "62/81 [=====================>........] - ETA: 2:07 - loss: 0.6578 - accuracy: 0.6381"
     ]
    }
   ],
   "source": [
    "cnn_history = cnn_model.fit(\n",
    "    train_generator,\n",
    "    epochs = 20,\n",
    "    callbacks = [callback_best_model('cnn_model.h5')],\n",
    "    validation_data = validation_generator\n",
    ")"
   ]
  },
  {
   "cell_type": "code",
   "execution_count": null,
   "metadata": {},
   "outputs": [],
   "source": [
    "results_visualization(cnn_history)"
   ]
  },
  {
   "cell_type": "code",
   "execution_count": null,
   "metadata": {},
   "outputs": [],
   "source": [
    "print(f'Accuracy model: {cnn_model.evaluate(test_generator)[1]}')"
   ]
  },
  {
   "cell_type": "code",
   "execution_count": 38,
   "metadata": {},
   "outputs": [
    {
     "name": "stdout",
     "output_type": "stream",
     "text": [
      "5/5 [==============================] - 3s 629ms/step - loss: 0.5549 - accuracy: 0.7871\n",
      "Accuracy model: 0.5549060106277466\n"
     ]
    }
   ],
   "source": [
    "print(f'Accuracy model: {cnn_model.evaluate(test_generator)[0]}')"
   ]
  },
  {
   "cell_type": "code",
   "execution_count": 39,
   "metadata": {},
   "outputs": [],
   "source": [
    "cnn_model.save('cnn_3.h5')"
   ]
  },
  {
   "cell_type": "code",
   "execution_count": 80,
   "metadata": {},
   "outputs": [],
   "source": [
    "model_base.save('model_1.h5')"
   ]
  },
  {
   "cell_type": "code",
   "execution_count": 7,
   "metadata": {},
   "outputs": [
    {
     "name": "stdout",
     "output_type": "stream",
     "text": [
      "Model: \"sequential_3\"\n",
      "_________________________________________________________________\n",
      " Layer (type)                Output Shape              Param #   \n",
      "=================================================================\n",
      " efficientnetb3 (Functional  (None, 7, 7, 1536)        10783535  \n",
      " )                                                               \n",
      "                                                                 \n",
      " batch_normalization_3 (Bat  (None, 7, 7, 1536)        6144      \n",
      " chNormalization)                                                \n",
      "                                                                 \n",
      " dense_6 (Dense)             (None, 7, 7, 128)         196736    \n",
      "                                                                 \n",
      " dropout_3 (Dropout)         (None, 7, 7, 128)         0         \n",
      "                                                                 \n",
      " dense_7 (Dense)             (None, 7, 7, 2)           258       \n",
      "                                                                 \n",
      "=================================================================\n",
      "Total params: 10986673 (41.91 MB)\n",
      "Trainable params: 10896298 (41.57 MB)\n",
      "Non-trainable params: 90375 (353.03 KB)\n",
      "_________________________________________________________________\n"
     ]
    }
   ],
   "source": [
    "\n",
    "from tensorflow.keras.models import Sequential\n",
    "from tensorflow.keras.layers import Conv2D, MaxPooling2D, Flatten, Dense, Activation, Dropout, BatchNormalization\n",
    "from tensorflow.keras import regularizers\n",
    "from tensorflow.keras.optimizers import Adam, Adamax\n",
    "\n",
    "base_model = tf.keras.applications.efficientnet.EfficientNetB3(include_top= False, weights= \"imagenet\", input_shape= (200,200,3), pooling= 'max')\n",
    "\n",
    "model = Sequential([\n",
    "    base_model,\n",
    "    BatchNormalization(axis= -1, momentum= 0.99, epsilon= 0.001),\n",
    "    Dense(128, kernel_regularizer= regularizers.l2(l= 0.016), activity_regularizer= regularizers.l1(0.006),\n",
    "                bias_regularizer= regularizers.l1(0.006), activation= 'relu'),\n",
    "    Dropout(rate= 0.45, seed= 123),\n",
    "    Dense(2, activation= 'softmax')\n",
    "])\n",
    "\n",
    "model.compile(Adamax(learning_rate= 0.001), loss= 'categorical_crossentropy', metrics= ['accuracy'])\n",
    "\n",
    "model.summary()"
   ]
  },
  {
   "cell_type": "code",
   "execution_count": null,
   "metadata": {},
   "outputs": [],
   "source": []
  }
 ],
 "metadata": {
  "kernelspec": {
   "display_name": "Python 3 (ipykernel)",
   "language": "python",
   "name": "python3"
  },
  "language_info": {
   "codemirror_mode": {
    "name": "ipython",
    "version": 3
   },
   "file_extension": ".py",
   "mimetype": "text/x-python",
   "name": "python",
   "nbconvert_exporter": "python",
   "pygments_lexer": "ipython3",
   "version": "3.9.13"
  },
  "vscode": {
   "interpreter": {
    "hash": "ea4cc997461ea0a7c98558d71cfd27792de8db137e1e48f525bc79c3ae57f5ec"
   }
  }
 },
 "nbformat": 4,
 "nbformat_minor": 2
}
